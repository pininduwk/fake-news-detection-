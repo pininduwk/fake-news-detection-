{
  "nbformat": 4,
  "nbformat_minor": 0,
  "metadata": {
    "colab": {
      "provenance": []
    },
    "kernelspec": {
      "name": "python3",
      "display_name": "Python 3"
    },
    "language_info": {
      "name": "python"
    }
  },
  "cells": [
    {
      "cell_type": "markdown",
      "source": [
        "# Step 1: Load the CSV file using pandas\n",
        "First, the code loads a CSV file named \"news.csv\" using the pandas library. This creates a pandas DataFrame that represents the data in the CSV file."
      ],
      "metadata": {
        "id": "n5rnLOk3Mki3"
      }
    },
    {
      "cell_type": "code",
      "source": [
        "# Step 1: Load the CSV file using pandas\n",
        "import pandas as pd\n",
        "\n",
        "df = pd.read_csv('/content/drive/MyDrive/Natural Language Processing /news.csv')\n"
      ],
      "metadata": {
        "id": "7nYLxa2WGtTY"
      },
      "execution_count": 23,
      "outputs": []
    },
    {
      "cell_type": "code",
      "source": [
        "# Visualize distribution of labels\n",
        "plt.figure(figsize=(8,6))\n",
        "df['label'].value_counts().plot(kind='bar')\n",
        "plt.title('Distribution of Labels')\n",
        "plt.xlabel('Label')\n",
        "plt.ylabel('Count')\n",
        "plt.show()"
      ],
      "metadata": {
        "colab": {
          "base_uri": "https://localhost:8080/",
          "height": 420
        },
        "id": "2csxlTf9Lmva",
        "outputId": "62dddca5-a17a-4bb6-9418-0151de1302fe"
      },
      "execution_count": 43,
      "outputs": [
        {
          "output_type": "display_data",
          "data": {
            "text/plain": [
              "<Figure size 576x432 with 1 Axes>"
            ],
            "image/png": "[encoded data removed]"
          },
          "metadata": {
            "needs_background": "light"
          }
        }
      ]
    },
    {
      "cell_type": "markdown",
      "source": [
        "# **Step 2: Drop any unnecessary columns**\n",
        "Next, the code drops an unnecessary column named \"Unnamed: 0\" from the DataFrame."
      ],
      "metadata": {
        "id": "0b6WF_rnMsVH"
      }
    },
    {
      "cell_type": "code",
      "source": [
        "# Step 2: Drop any unnecessary columns\n",
        "df = df.drop('Unnamed: 0', axis=1)"
      ],
      "metadata": {
        "id": "t8itLG0tH0dP"
      },
      "execution_count": 24,
      "outputs": []
    },
    {
      "cell_type": "markdown",
      "source": [
        "# **Step 3: Check for and handle missing values if any**\n",
        "\n",
        "Then, the code drops any rows with missing values in the DataFrame and resets the index of the DataFrame."
      ],
      "metadata": {
        "id": "WHveX9vBw-Ap"
      }
    },
    {
      "cell_type": "code",
      "source": [
        "# Step 3: Check for and handle missing values if any\n",
        "df = df.dropna()\n",
        "df = df.reset_index(drop=True)"
      ],
      "metadata": {
        "id": "0q-h9-I4H28P"
      },
      "execution_count": 25,
      "outputs": []
    },
    {
      "cell_type": "code",
      "source": [
        "# Visualize length of news articles\n",
        "plt.figure(figsize=(8,6))\n",
        "df['content'].apply(len).hist()\n",
        "plt.title('Length of News Articles')\n",
        "plt.xlabel('Length')\n",
        "plt.ylabel('Count')\n",
        "plt.show()"
      ],
      "metadata": {
        "colab": {
          "base_uri": "https://localhost:8080/",
          "height": 404
        },
        "id": "FPiItD4YLtOh",
        "outputId": "633ff1d2-38a2-425e-f9a8-2fc8b9cc3641"
      },
      "execution_count": 44,
      "outputs": [
        {
          "output_type": "display_data",
          "data": {
            "text/plain": [
              "<Figure size 576x432 with 1 Axes>"
            ],
            "image/png": "[encoded data removed]"
          },
          "metadata": {
            "needs_background": "light"
          }
        }
      ]
    },
    {
      "cell_type": "markdown",
      "source": [
        "# **Step 4: Concatenate 'title' and 'text' columns into a single column 'content'**\n",
        "After that, the code concatenates the \"title\" and \"text\" columns of the DataFrame into a single column named \"content\" and drops the original \"title\" and \"text\" columns."
      ],
      "metadata": {
        "id": "nKEmgzzHxJeA"
      }
    },
    {
      "cell_type": "code",
      "source": [
        "# Step 4: Concatenate 'title' and 'text' columns into a single column 'content'\n",
        "df['content'] = df['title'] + ' ' + df['text']\n",
        "df = df.drop(['title', 'text'], axis=1)"
      ],
      "metadata": {
        "id": "8vrU_q-lH5Fm"
      },
      "execution_count": 26,
      "outputs": []
    },
    {
      "cell_type": "markdown",
      "source": [
        "# **Step 5: Perform text preprocessing**\n",
        "The code defines a function called \"preprocess_text\" that performs text preprocessing on the \"content\" column of the DataFrame. This function removes punctuation, converts text to lowercase, removes stop words, and lemmatizes words. Then, it applies this function to the \"content\" column of the DataFrame."
      ],
      "metadata": {
        "id": "GlpvMJduxPtA"
      }
    },
    {
      "cell_type": "code",
      "source": [
        "# Step 5: Perform text preprocessing\n",
        "import re\n",
        "import nltk\n",
        "from nltk.corpus import stopwords\n",
        "from nltk.stem import WordNetLemmatizer"
      ],
      "metadata": {
        "id": "u7qSfV75IAmW"
      },
      "execution_count": 29,
      "outputs": []
    },
    {
      "cell_type": "code",
      "source": [
        "nltk.download('stopwords')\n",
        "nltk.download('wordnet')"
      ],
      "metadata": {
        "colab": {
          "base_uri": "https://localhost:8080/"
        },
        "id": "exjBtM1IIDWe",
        "outputId": "e190abd1-86f7-4570-84f3-d1c09197d3e3"
      },
      "execution_count": 30,
      "outputs": [
        {
          "output_type": "stream",
          "name": "stderr",
          "text": [
            "[nltk_data] Downloading package stopwords to /root/nltk_data...\n",
            "[nltk_data]   Unzipping corpora/stopwords.zip.\n",
            "[nltk_data] Downloading package wordnet to /root/nltk_data...\n"
          ]
        },
        {
          "output_type": "execute_result",
          "data": {
            "text/plain": [
              "True"
            ]
          },
          "metadata": {},
          "execution_count": 30
        }
      ]
    },
    {
      "cell_type": "code",
      "source": [
        "lemmatizer = WordNetLemmatizer()\n",
        "stop_words = set(stopwords.words('english'))"
      ],
      "metadata": {
        "id": "Kn3i25fuIFG-"
      },
      "execution_count": 42,
      "outputs": []
    },
    {
      "cell_type": "code",
      "source": [
        "def preprocess_text(text):\n",
        "    # Remove punctuations and convert to lowercase\n",
        "    text = re.sub('[^a-zA-Z]', ' ', text)\n",
        "    text = text.lower()\n",
        "\n",
        "    # Remove stop words and lemmatize\n",
        "    words = nltk.word_tokenize(text)\n",
        "    words = [lemmatizer.lemmatize(word) for word in words if word not in stop_words]\n",
        "    return ' '.join(words)\n",
        "\n",
        "df['content'] = df['content'].apply(preprocess_text)\n"
      ],
      "metadata": {
        "id": "YVTU69jzIJnm"
      },
      "execution_count": 32,
      "outputs": []
    },
    {
      "cell_type": "code",
      "source": [
        "# Visualize most common words\n",
        "from collections import Counter\n",
        "\n",
        "all_words = []\n",
        "for text in df['content']:\n",
        "    all_words.extend(text.split())\n",
        "    \n",
        "word_freq = Counter(all_words)\n",
        "most_common_words = word_freq.most_common(20)\n",
        "\n",
        "plt.figure(figsize=(8,6))\n",
        "plt.bar(range(len(most_common_words)), [val[1] for val in most_common_words], align='center')\n",
        "plt.xticks(range(len(most_common_words)), [val[0] for val in most_common_words])\n",
        "plt.xticks(rotation=90)\n",
        "plt.title('Most Common Words')\n",
        "plt.xlabel('Words')\n",
        "plt.ylabel('Frequency')\n",
        "plt.show()"
      ],
      "metadata": {
        "colab": {
          "base_uri": "https://localhost:8080/",
          "height": 447
        },
        "id": "2WiQhb1PL3Lx",
        "outputId": "38fe8d76-17a0-4799-f950-df3ce1a5294f"
      },
      "execution_count": 45,
      "outputs": [
        {
          "output_type": "display_data",
          "data": {
            "text/plain": [
              "<Figure size 576x432 with 1 Axes>"
            ],
            "image/png": "[encoded data removed]"
          },
          "metadata": {
            "needs_background": "light"
          }
        }
      ]
    },
    {
      "cell_type": "markdown",
      "source": [
        "# **Step 6: Split the dataset into training and testing sets**\n",
        "The code splits the DataFrame into training and testing sets using the train_test_split function from the scikit-learn library. It uses 20% of the data for testing and sets the random state to 42 for reproducibility."
      ],
      "metadata": {
        "id": "_mCriIhExWEI"
      }
    },
    {
      "cell_type": "code",
      "source": [
        "# Step 6: Split the dataset into training and testing sets\n",
        "from sklearn.model_selection import train_test_split\n",
        "X_train, X_test, y_train, y_test = train_test_split(df['content'], df['label'], test_size=0.2, random_state=42)"
      ],
      "metadata": {
        "id": "GqUqqzwiIQdW"
      },
      "execution_count": 33,
      "outputs": []
    },
    {
      "cell_type": "code",
      "source": [
        "# Visualize distribution of labels in training set\n",
        "plt.figure(figsize=(8,6))\n",
        "y_train.value_counts().plot(kind='bar')\n",
        "plt.title('Distribution of Labels in Training Set')\n",
        "plt.xlabel('Label')\n",
        "plt.ylabel('Count')\n",
        "plt.show()"
      ],
      "metadata": {
        "colab": {
          "base_uri": "https://localhost:8080/",
          "height": 420
        },
        "id": "Cq_DnMu8MByw",
        "outputId": "59b9ad09-3914-40fc-e4f6-04d2bf82d023"
      },
      "execution_count": 46,
      "outputs": [
        {
          "output_type": "display_data",
          "data": {
            "text/plain": [
              "<Figure size 576x432 with 1 Axes>"
            ],
            "image/png": "[encoded data removed]"
          },
          "metadata": {
            "needs_background": "light"
          }
        }
      ]
    },
    {
      "cell_type": "markdown",
      "source": [
        "# **Step 7: Create a Bag-of-Words model using CountVectorizer**\n",
        "The code creates a Bag-of-Words model using the CountVectorizer class from the scikit-learn library. It applies the CountVectorizer to the training data and transforms both the training and testing data into matrices of token counts."
      ],
      "metadata": {
        "id": "1jrn6fdqxZfX"
      }
    },
    {
      "cell_type": "code",
      "source": [
        "# Step 7: Create a Bag-of-Words model using CountVectorizer\n",
        "from sklearn.feature_extraction.text import CountVectorizer\n",
        "vectorizer = CountVectorizer()\n",
        "X_train_counts = vectorizer.fit_transform(X_train)\n",
        "X_test_counts = vectorizer.transform(X_test)"
      ],
      "metadata": {
        "id": "tp5NpLzxIaVu"
      },
      "execution_count": 35,
      "outputs": []
    },
    {
      "cell_type": "code",
      "source": [
        "# Visualize Bag-of-Words model\n",
        "import matplotlib.pyplot as plt\n",
        "plt.figure(figsize=(10, 10))\n",
        "plt.spy(X_train_counts, markersize=0.05)\n",
        "plt.title('Bag-of-Words Model')\n",
        "plt.xlabel('Word Index')\n",
        "plt.ylabel('Document Index')\n",
        "plt.show()"
      ],
      "metadata": {
        "colab": {
          "base_uri": "https://localhost:8080/",
          "height": 135
        },
        "id": "QDppblxBMGFA",
        "outputId": "de763dd0-25eb-470c-ccf4-327cca3986fd"
      },
      "execution_count": 48,
      "outputs": [
        {
          "output_type": "display_data",
          "data": {
            "text/plain": [
              "<Figure size 720x720 with 1 Axes>"
            ],
            "image/png": "[encoded data removed]"
          },
          "metadata": {
            "needs_background": "light"
          }
        }
      ]
    },
    {
      "cell_type": "markdown",
      "source": [
        "# **Step 8: Train a fake news detection model**\n",
        "The code trains a logistic regression model on the training data using the LogisticRegression class from the scikit-learn library."
      ],
      "metadata": {
        "id": "ZNnpbtnexfL4"
      }
    },
    {
      "cell_type": "code",
      "source": [
        "# Step 8: Train a fake news detection model\n",
        "from sklearn.linear_model import LogisticRegression\n",
        "\n",
        "model = LogisticRegression()\n",
        "model.fit(X_train_counts, y_train)\n"
      ],
      "metadata": {
        "colab": {
          "base_uri": "https://localhost:8080/",
          "height": 52
        },
        "id": "UwhspfwGIdN-",
        "outputId": "ec1e854a-9224-4b48-c0e3-7375d7a77c6d"
      },
      "execution_count": 36,
      "outputs": [
        {
          "output_type": "execute_result",
          "data": {
            "text/plain": [
              "LogisticRegression()"
            ],
            "text/html": [
              "<style>#sk-container-id-1 {color: black;background-color: white;}#sk-container-id-1 pre{padding: 0;}#sk-container-id-1 div.sk-toggleable {background-color: white;}#sk-container-id-1 label.sk-toggleable__label {cursor: pointer;display: block;width: 100%;margin-bottom: 0;padding: 0.3em;box-sizing: border-box;text-align: center;}#sk-container-id-1 label.sk-toggleable__label-arrow:before {content: \"▸\";float: left;margin-right: 0.25em;color: #696969;}#sk-container-id-1 label.sk-toggleable__label-arrow:hover:before {color: black;}#sk-container-id-1 div.sk-estimator:hover label.sk-toggleable__label-arrow:before {color: black;}#sk-container-id-1 div.sk-toggleable__content {max-height: 0;max-width: 0;overflow: hidden;text-align: left;background-color: #f0f8ff;}#sk-container-id-1 div.sk-toggleable__content pre {margin: 0.2em;color: black;border-radius: 0.25em;background-color: #f0f8ff;}#sk-container-id-1 input.sk-toggleable__control:checked~div.sk-toggleable__content {max-height: 200px;max-width: 100%;overflow: auto;}#sk-container-id-1 input.sk-toggleable__control:checked~label.sk-toggleable__label-arrow:before {content: \"▾\";}#sk-container-id-1 div.sk-estimator input.sk-toggleable__control:checked~label.sk-toggleable__label {background-color: #d4ebff;}#sk-container-id-1 div.sk-label input.sk-toggleable__control:checked~label.sk-toggleable__label {background-color: #d4ebff;}#sk-container-id-1 input.sk-hidden--visually {border: 0;clip: rect(1px 1px 1px 1px);clip: rect(1px, 1px, 1px, 1px);height: 1px;margin: -1px;overflow: hidden;padding: 0;position: absolute;width: 1px;}#sk-container-id-1 div.sk-estimator {font-family: monospace;background-color: #f0f8ff;border: 1px dotted black;border-radius: 0.25em;box-sizing: border-box;margin-bottom: 0.5em;}#sk-container-id-1 div.sk-estimator:hover {background-color: #d4ebff;}#sk-container-id-1 div.sk-parallel-item::after {content: \"\";width: 100%;border-bottom: 1px solid gray;flex-grow: 1;}#sk-container-id-1 div.sk-label:hover label.sk-toggleable__label {background-color: #d4ebff;}#sk-container-id-1 div.sk-serial::before {content: \"\";position: absolute;border-left: 1px solid gray;box-sizing: border-box;top: 0;bottom: 0;left: 50%;z-index: 0;}#sk-container-id-1 div.sk-serial {display: flex;flex-direction: column;align-items: center;background-color: white;padding-right: 0.2em;padding-left: 0.2em;position: relative;}#sk-container-id-1 div.sk-item {position: relative;z-index: 1;}#sk-container-id-1 div.sk-parallel {display: flex;align-items: stretch;justify-content: center;background-color: white;position: relative;}#sk-container-id-1 div.sk-item::before, #sk-container-id-1 div.sk-parallel-item::before {content: \"\";position: absolute;border-left: 1px solid gray;box-sizing: border-box;top: 0;bottom: 0;left: 50%;z-index: -1;}#sk-container-id-1 div.sk-parallel-item {display: flex;flex-direction: column;z-index: 1;position: relative;background-color: white;}#sk-container-id-1 div.sk-parallel-item:first-child::after {align-self: flex-end;width: 50%;}#sk-container-id-1 div.sk-parallel-item:last-child::after {align-self: flex-start;width: 50%;}#sk-container-id-1 div.sk-parallel-item:only-child::after {width: 0;}#sk-container-id-1 div.sk-dashed-wrapped {border: 1px dashed gray;margin: 0 0.4em 0.5em 0.4em;box-sizing: border-box;padding-bottom: 0.4em;background-color: white;}#sk-container-id-1 div.sk-label label {font-family: monospace;font-weight: bold;display: inline-block;line-height: 1.2em;}#sk-container-id-1 div.sk-label-container {text-align: center;}#sk-container-id-1 div.sk-container {/* jupyter's `normalize.less` sets `[hidden] { display: none; }` but bootstrap.min.css set `[hidden] { display: none !important; }` so we also need the `!important` here to be able to override the default hidden behavior on the sphinx rendered scikit-learn.org. See: https://github.com/scikit-learn/scikit-learn/issues/21755 */display: inline-block !important;position: relative;}#sk-container-id-1 div.sk-text-repr-fallback {display: none;}</style><div id=\"sk-container-id-1\" class=\"sk-top-container\"><div class=\"sk-text-repr-fallback\"><pre>LogisticRegression()</pre><b>In a Jupyter environment, please rerun this cell to show the HTML representation or trust the notebook. <br />On GitHub, the HTML representation is unable to render, please try loading this page with nbviewer.org.</b></div><div class=\"sk-container\" hidden><div class=\"sk-item\"><div class=\"sk-estimator sk-toggleable\"><input class=\"sk-toggleable__control sk-hidden--visually\" id=\"sk-estimator-id-1\" type=\"checkbox\" checked><label for=\"sk-estimator-id-1\" class=\"sk-toggleable__label sk-toggleable__label-arrow\">LogisticRegression</label><div class=\"sk-toggleable__content\"><pre>LogisticRegression()</pre></div></div></div></div></div>"
            ]
          },
          "metadata": {},
          "execution_count": 36
        }
      ]
    },
    {
      "cell_type": "markdown",
      "source": [
        "# **Step 9: Evaluate the performance of the model on the testing set**\n",
        "Finally, the code evaluates the performance of the model on the testing set using several metrics such as accuracy, precision, and recall. It also creates a confusion matrix and a heatmap visualization of the confusion matrix using the seaborn library. It generates a classification report as well."
      ],
      "metadata": {
        "id": "YpUM6FoUxprN"
      }
    },
    {
      "cell_type": "code",
      "source": [
        "# Step 9: Evaluate the performance of the model on the testing set\n",
        "from sklearn.metrics import accuracy_score, precision_score, recall_score"
      ],
      "metadata": {
        "id": "P52XbgOvIl1e"
      },
      "execution_count": 37,
      "outputs": []
    },
    {
      "cell_type": "code",
      "source": [
        "y_pred = model.predict(X_test_counts)\n",
        "\n",
        "print('Accuracy:', accuracy_score(y_test, y_pred))\n",
        "print('Precision:', precision_score(y_test, y_pred, pos_label='FAKE'))\n",
        "print('Recall:', recall_score(y_test, y_pred, pos_label='FAKE'))"
      ],
      "metadata": {
        "colab": {
          "base_uri": "https://localhost:8080/"
        },
        "id": "3lhiN001Iq4F",
        "outputId": "9cff04ec-55fd-49aa-9330-ac361523e4a8"
      },
      "execution_count": 38,
      "outputs": [
        {
          "output_type": "stream",
          "name": "stdout",
          "text": [
            "Accuracy: 0.9194948697711128\n",
            "Precision: 0.9214743589743589\n",
            "Recall: 0.9156050955414012\n"
          ]
        }
      ]
    },
    {
      "cell_type": "code",
      "source": [
        "# calculate accuracy, precision, and recall\n",
        "accuracy = accuracy_score(y_test, y_pred)\n",
        "print(\"Accuracy:\", accuracy)\n",
        "\n",
        "confusion = confusion_matrix(y_test, y_pred, labels=['FAKE', 'REAL'])\n",
        "print(\"Confusion matrix:\", confusion)\n",
        "\n",
        "precision = confusion[1][1] / (confusion[0][1] + confusion[1][1])\n",
        "print(\"Precision:\", precision)\n",
        "\n",
        "recall = confusion[1][1] / (confusion[1][0] + confusion[1][1])\n",
        "print(\"Recall:\", recall)"
      ],
      "metadata": {
        "colab": {
          "base_uri": "https://localhost:8080/"
        },
        "id": "aL172jW6I22F",
        "outputId": "1838cbc6-1201-402c-83bb-ae3a53f2d0a5"
      },
      "execution_count": 40,
      "outputs": [
        {
          "output_type": "stream",
          "name": "stdout",
          "text": [
            "Accuracy: 0.9194948697711128\n",
            "Confusion matrix: [[575  53]\n",
            " [ 49 590]]\n",
            "Precision: 0.9175738724727839\n",
            "Recall: 0.9233176838810642\n"
          ]
        }
      ]
    },
    {
      "cell_type": "code",
      "source": [
        "from sklearn.metrics import confusion_matrix, classification_report\n",
        "import seaborn as sns\n",
        "import matplotlib.pyplot as plt\n",
        "\n",
        "# Generate predictions on the test set\n",
        "y_pred = model.predict(X_test_counts)\n",
        "\n",
        "# Create a confusion matrix\n",
        "cm = confusion_matrix(y_test, y_pred)\n",
        "\n",
        "# Create a heatmap of the confusion matrix\n",
        "sns.heatmap(cm, annot=True, cmap='Blues', fmt='g', xticklabels=['REAL', 'FAKE'], yticklabels=['REAL', 'FAKE'])\n",
        "plt.xlabel('Predicted')\n",
        "plt.ylabel('Actual')\n",
        "plt.show()\n",
        "\n",
        "# Create a classification report\n",
        "report = classification_report(y_test, y_pred)\n",
        "print(report)\n"
      ],
      "metadata": {
        "colab": {
          "base_uri": "https://localhost:8080/",
          "height": 435
        },
        "id": "R3JitwdCJOvV",
        "outputId": "5fc650c6-ad4e-48b4-9c36-0772b07c9f04"
      },
      "execution_count": 41,
      "outputs": [
        {
          "output_type": "display_data",
          "data": {
            "text/plain": [
              "<Figure size 432x288 with 2 Axes>"
            ],
            "image/png": "[encoded data removed]"
          },
          "metadata": {
            "needs_background": "light"
          }
        },
        {
          "output_type": "stream",
          "name": "stdout",
          "text": [
            "              precision    recall  f1-score   support\n",
            "\n",
            "        FAKE       0.92      0.92      0.92       628\n",
            "        REAL       0.92      0.92      0.92       639\n",
            "\n",
            "    accuracy                           0.92      1267\n",
            "   macro avg       0.92      0.92      0.92      1267\n",
            "weighted avg       0.92      0.92      0.92      1267\n",
            "\n"
          ]
        }
      ]
    },
    {
      "cell_type": "code",
      "source": [
        "# Create a classification report\n",
        "from sklearn.metrics import classification_report\n",
        "report = classification_report(y_test, y_pred)\n",
        "print(report)"
      ],
      "metadata": {
        "colab": {
          "base_uri": "https://localhost:8080/"
        },
        "id": "K0nG5JkrMfDP",
        "outputId": "820a1882-741f-483f-e514-2dba1c8b16ac"
      },
      "execution_count": 49,
      "outputs": [
        {
          "output_type": "stream",
          "name": "stdout",
          "text": [
            "              precision    recall  f1-score   support\n",
            "\n",
            "        FAKE       0.92      0.92      0.92       628\n",
            "        REAL       0.92      0.92      0.92       639\n",
            "\n",
            "    accuracy                           0.92      1267\n",
            "   macro avg       0.92      0.92      0.92      1267\n",
            "weighted avg       0.92      0.92      0.92      1267\n",
            "\n"
          ]
        }
      ]
    },
    {
      "cell_type": "code",
      "source": [
        "from sklearn.metrics import accuracy_score\n",
        "\n",
        "# Calculate accuracy on the test set\n",
        "y_pred = model.predict(X_test_counts)\n",
        "accuracy = accuracy_score(y_test, y_pred)\n",
        "\n",
        "# Check if accuracy is at least 75%\n",
        "if accuracy >= 0.75:\n",
        "    print(\"The model has at least 75% classification accuracy\")\n",
        "else:\n",
        "    print(\"The model does not have at least 75% classification accuracy\")\n"
      ],
      "metadata": {
        "colab": {
          "base_uri": "https://localhost:8080/"
        },
        "id": "XtRRGRsCOoaK",
        "outputId": "ed6ae0ab-5ab4-4ec2-8c7d-87279a2eced3"
      },
      "execution_count": 50,
      "outputs": [
        {
          "output_type": "stream",
          "name": "stdout",
          "text": [
            "The model has at least 75% classification accuracy\n"
          ]
        }
      ]
    },
    {
      "cell_type": "code",
      "source": [
        "from sklearn.metrics import accuracy_score\n",
        "\n",
        "# Calculate accuracy on the test set\n",
        "y_pred = model.predict(X_test_counts)\n",
        "accuracy = accuracy_score(y_test, y_pred)\n",
        "\n",
        "# Check if accuracy is at least 75%\n",
        "if accuracy >= 0.75:\n",
        "    print(\"The model has at least 75% classification accuracy\")\n",
        "else:\n",
        "    print(\"The model does not have at least 75% classification accuracy\")\n"
      ],
      "metadata": {
        "colab": {
          "base_uri": "https://localhost:8080/"
        },
        "id": "lzvbGNqxOqyB",
        "outputId": "dcfb7c30-ad94-4d41-9805-d3657bb3633f"
      },
      "execution_count": 51,
      "outputs": [
        {
          "output_type": "stream",
          "name": "stdout",
          "text": [
            "The model has at least 75% classification accuracy\n"
          ]
        }
      ]
    }
  ]
}